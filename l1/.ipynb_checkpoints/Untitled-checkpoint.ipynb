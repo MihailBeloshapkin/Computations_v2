{
 "cells": [
  {
   "cell_type": "code",
   "execution_count": 1,
   "id": "ee13c8b2",
   "metadata": {},
   "outputs": [],
   "source": [
    "import numpy as np\n",
    "from numpy.linalg import norm\n",
    "from numpy.linalg import det\n",
    "from math import sqrt"
   ]
  },
  {
   "cell_type": "code",
   "execution_count": 2,
   "id": "54f06874",
   "metadata": {},
   "outputs": [],
   "source": [
    "def cond_s(m: np.array):\n",
    "    M_inv = np.linalg.inv(m)\n",
    "    return norm(M_inv) * norm(m)"
   ]
  },
  {
   "cell_type": "code",
   "execution_count": 3,
   "id": "b959c008",
   "metadata": {},
   "outputs": [],
   "source": [
    "A = np.array([\n",
    "    [2, 1],\n",
    "    [1, 1]\n",
    "])"
   ]
  },
  {
   "cell_type": "code",
   "execution_count": 4,
   "id": "513a75ba",
   "metadata": {},
   "outputs": [
    {
     "data": {
      "text/plain": [
       "7.000000000000001"
      ]
     },
     "execution_count": 4,
     "metadata": {},
     "output_type": "execute_result"
    }
   ],
   "source": [
    "cond_s(A)"
   ]
  },
  {
   "cell_type": "code",
   "execution_count": 5,
   "id": "610603da",
   "metadata": {},
   "outputs": [
    {
     "data": {
      "text/plain": [
       "3.1622776601683795"
      ]
     },
     "execution_count": 5,
     "metadata": {},
     "output_type": "execute_result"
    }
   ],
   "source": [
    "square = lambda x: x ** 2\n",
    "\n",
    "def cond_v(m: np.array):\n",
    "    n = m.shape[0]\n",
    "    acc = 1\n",
    "    for i in range(n):\n",
    "        acc = acc * sqrt(np.sum(square(m[i, :])))\n",
    "    return acc / det(m)\n",
    "\n",
    "cond_v(A)"
   ]
  },
  {
   "cell_type": "code",
   "execution_count": 6,
   "id": "be21f6cf",
   "metadata": {},
   "outputs": [],
   "source": [
    "def cond_a(m: np.array):\n",
    "    m_inv = np.linalg.inv(m)\n",
    "    n = m.shape[0]\n",
    "    result = norm(m[0, ]) * norm(m_inv[:, 0])\n",
    "    for i in range(0, n):\n",
    "        current = norm(m[i, :]) * norm(m_inv[:, i])\n",
    "        if current > result:\n",
    "            result = current\n",
    "    return result"
   ]
  },
  {
   "cell_type": "code",
   "execution_count": 7,
   "id": "4e23de35",
   "metadata": {},
   "outputs": [
    {
     "data": {
      "text/plain": [
       "3.1622776601683795"
      ]
     },
     "execution_count": 7,
     "metadata": {},
     "output_type": "execute_result"
    }
   ],
   "source": [
    "cond_a(A)"
   ]
  },
  {
   "cell_type": "code",
   "execution_count": 8,
   "id": "687e1809",
   "metadata": {},
   "outputs": [],
   "source": [
    "from scipy.linalg import hilbert\n",
    "import seaborn as sns\n",
    "from tqdm import tqdm"
   ]
  },
  {
   "cell_type": "code",
   "execution_count": 9,
   "id": "754e4a2f",
   "metadata": {},
   "outputs": [
    {
     "data": {
      "image/png": "[encoded data removed]",
      "text/plain": [
       "<Figure size 432x288 with 1 Axes>"
      ]
     },
     "metadata": {
      "needs_background": "light"
     },
     "output_type": "display_data"
    }
   ],
   "source": [
    "rounding = lambda x: round(x, 4)\n",
    "\n",
    "def tests(cond):\n",
    "    errors = []\n",
    "    conds = []\n",
    "    dim = []\n",
    "    for N in range(3, 7):\n",
    "        H = hilbert(N)\n",
    "        right_solution = np.ones(N)\n",
    "        b = np.matmul(H, right_solution)\n",
    "        rounded_H = np.matrix.round(H, 4)\n",
    "        rounded_b = np.matrix.round(b, 4)\n",
    "        solution = np.linalg.solve(rounded_H, rounded_b)\n",
    "        errors.append(norm(solution - right_solution))\n",
    "        conds.append(cond(H))\n",
    "        dim.append(N)\n",
    "                     \n",
    "    return errors, conds, dim\n",
    "                     \n",
    "errors, conds, dim = tests(cond_v)\n",
    "ax1 = sns.lineplot(x=dim, y=conds, label='Простой метод')\n",
    "st = ax1.set(xlabel='dim', ylabel='conds')"
   ]
  },
  {
   "cell_type": "code",
   "execution_count": 10,
   "id": "d8592345",
   "metadata": {},
   "outputs": [
    {
     "data": {
      "text/plain": [
       "array([[1.        , 0.5       , 0.33333333],\n",
       "       [0.5       , 0.33333333, 0.25      ],\n",
       "       [0.33333333, 0.25      , 0.2       ]])"
      ]
     },
     "execution_count": 10,
     "metadata": {},
     "output_type": "execute_result"
    }
   ],
   "source": [
    "hilbert(3)"
   ]
  },
  {
   "cell_type": "code",
   "execution_count": 11,
   "id": "dfe03de7",
   "metadata": {},
   "outputs": [
    {
     "data": {
      "text/plain": [
       "937085.8716078639"
      ]
     },
     "execution_count": 11,
     "metadata": {},
     "output_type": "execute_result"
    }
   ],
   "source": [
    "cond_v(hilbert(4))"
   ]
  }
 ],
 "metadata": {
  "kernelspec": {
   "display_name": "Python 3 (ipykernel)",
   "language": "python",
   "name": "python3"
  },
  "language_info": {
   "codemirror_mode": {
    "name": "ipython",
    "version": 3
   },
   "file_extension": ".py",
   "mimetype": "text/x-python",
   "name": "python",
   "nbconvert_exporter": "python",
   "pygments_lexer": "ipython3",
   "version": "3.8.10"
  }
 },
 "nbformat": 4,
 "nbformat_minor": 5
}
