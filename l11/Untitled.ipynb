{
 "cells": [
  {
   "cell_type": "code",
   "execution_count": 2,
   "id": "ad073421",
   "metadata": {},
   "outputs": [],
   "source": [
    "from typing import Callable, List, Tuple, Iterable\n",
    "\n",
    "import numpy as np\n",
    "import seaborn as sns\n",
    "from matplotlib import pyplot as plt"
   ]
  },
  {
   "cell_type": "code",
   "execution_count": 3,
   "id": "bd8b9e8f",
   "metadata": {
    "scrolled": true
   },
   "outputs": [],
   "source": [
    "#Transforms A and b to the right form\n",
    "def transform(A, b):\n",
    "    size = A.shape[0]\n",
    "    D = np.identity(size)\n",
    "    A_diag_indices = np.diag(A)\n",
    "    D[np.diag_indices_from(D)] = A_diag_indices\n",
    "    HD = np.identity(size) - np.matmul(np.linalg.inv(D), A)\n",
    "    gD = np.matmul(np.linalg.inv(D), b)\n",
    "    return HD, gD\n",
    "\n",
    "def inf_norm(arr):\n",
    "    return np.linalg.norm(arr, ord=np.inf)\n",
    "\n",
    "\n",
    "def simple_iteration_method(H, g, k):\n",
    "    n = H.shape[0]\n",
    "    x = np.zeros((n, 1))\n",
    "    count = 0\n",
    "    while count < k:\n",
    "        x = np.matmul(H, x) + g\n",
    "        count = count + 1\n",
    "        \n",
    "        \n",
    "    return x\n",
    "\n",
    "\n",
    "\n",
    "def seidel_method(H, g, k):\n",
    "    n = H.shape[0]\n",
    "    prev_x = np.zeros(n)\n",
    "    x = np.zeros(n)\n",
    "    count = 0\n",
    "    while count < k:\n",
    "        for i in range(n):\n",
    "            x[i] = np.dot(H[i, 0:i], x[0:i]) + np.dot(H[i, i:n], prev_x[i:n]) + g[i]\n",
    "        prev_x = x\n",
    "        count = count + 1\n",
    "        \n",
    "    return x.reshape((n, 1))"
   ]
  },
  {
   "cell_type": "code",
   "execution_count": 28,
   "id": "2f3835d7",
   "metadata": {},
   "outputs": [
    {
     "data": {
      "text/plain": [
       "2"
      ]
     },
     "execution_count": 28,
     "metadata": {},
     "output_type": "execute_result"
    }
   ],
   "source": [
    "coeff = Callable[[float, float], float]\n",
    "Equation = Tuple[coeff, coeff, coeff]\n",
    "Boundaries = Tuple[float, float, float, float]\n",
    "\n",
    "class Solve:\n",
    "    def __init__(self,\n",
    "                 coefs : Equation,\n",
    "                 eps : float, \n",
    "                 bounds : Boundaries,\n",
    "                 mu : coeff,\n",
    "                 x_coords : int,\n",
    "                 y_coords : int\n",
    "                 ):\n",
    "        self.p, self.q, self.f = coefs\n",
    "        self.lx, self.rx, self.by, self.uy  = bounds\n",
    "        self.eps = eps\n",
    "        self.mu = mu\n",
    "        self.x_coords = x_coords\n",
    "        self.y_coords = y_coords\n",
    "        self.x_net, self.y_net = self._get_net()\n",
    "        self.hx = (self.rx - self.lx) / self.x_coords\n",
    "        self.hy = (self.uy - self.by) / self.y_coords\n",
    "        \n",
    "    def process(self):\n",
    "        new_x_size, new_y_size = (self.x_coords - 1), (self.y_coords - 1) \n",
    "        A = np.arange(new_x_size * new_y_size).reshape((new_x_size, new_y_size))\n",
    "        n = self.x_coords - 2\n",
    "        m = self.y_coords - 2\n",
    "        interior_points = np.arange(m * n).reshape(n, m)\n",
    "        \n",
    "        system = np.arange(n * n * m * m).reshape(m * n, m * n)\n",
    "        b = np.arange(n * m)\n",
    "        \n",
    "        for i in range(m * n):\n",
    "            for j in range(m * n):\n",
    "                system[i, j] = 0.0\n",
    "        \n",
    "        \n",
    "        def get_index(i, j):\n",
    "            return i * m + j\n",
    "            \n",
    "        def get_ij(index):\n",
    "            return (int)(index / m), index % m\n",
    "        \n",
    "        def p1(xi, yi):\n",
    "            return self.p(xi + self.hx / 2, yi)\n",
    "        \n",
    "        def p2(xi, yi):\n",
    "            return self.p(xi - self.hx / 2, yi)\n",
    "        \n",
    "        def q1(xi, yi):\n",
    "            return self.q(xi, yi + self.hy / 2)\n",
    "        \n",
    "        def q2(xi, yi):\n",
    "            return self.q(xi, yi - self.hy / 2)\n",
    "            \n",
    "            \n",
    "     #   for i in range(0, n - 2):\n",
    "     #       for j in range(0, m - 2):\n",
    "     #           interiot_points[i, j] = A[i + 1, j + 1]\n",
    "        \n",
    "            \n",
    "        counter = 0\n",
    "        for i in range(0, n):\n",
    "            for j in range(0,  m):\n",
    "                xi = self.x_net[i + 1]\n",
    "                yi = self.y_net[j + 1]\n",
    "                \n",
    "                imj_const = self.mu(xi - self.hx, yi) * p2(xi, yi) / (self.hx ** 2)\n",
    "                ijm_const = self.mu(xi, yi - self.hy) * q2(xi, yi) / (self.hy ** 2)\n",
    "                ipj_const = self.mu(xi + self.hx, yi) * p1(xi, yi) / (self.hx ** 2)\n",
    "                ijp_const = self.mu(xi, yi + self.hy) * q1(xi, yi) / (self.hy ** 2)\n",
    "                ij_coeff = -p1(xi, yi) / (self.hx ** 2) - p2(xi, yi) / (self.hx ** 2) - q1(xi, yi) / (self.hy ** 2) - q2(xi, yi) / (self.hy ** 2)\n",
    "                ipj_coeff = p1(xi, yi) / (self.hx ** 2)\n",
    "                imj_coeff = p2(xi, yi) / (self.hx ** 2)\n",
    "                ijp_coeff = q1(xi, yi) / (self.hy ** 2)\n",
    "                ijm_coeff = q2(xi, yi) / (self.hy ** 2)\n",
    "                \n",
    "                # Indexes of variable in system of equations.\n",
    "                index = get_index(i, j)\n",
    "                index_ipj = get_index(i + 1, j)\n",
    "                index_ijp = get_index(i, j + 1)\n",
    "                index_imj = get_index(i - 1, j)\n",
    "                index_ijm = get_index(i, j - 1)\n",
    "                \n",
    "                if i == 0 and j == 0:\n",
    "                    system[counter, index] = ij_coeff\n",
    "                    system[counter, index_ipj] = ipj_coeff\n",
    "                    system[counter, index_ijp] = ijp_coeff\n",
    "                    right_coeff = - self.f(xi, yi) - imj_const - ijm_const\n",
    "                    b[counter] = right_coeff\n",
    "                elif i == n - 1 and j == m - 1:\n",
    "                    system[counter, index] = ij_coeff\n",
    "                    system[counter, index_imj] = imj_coeff\n",
    "                    system[counter, index_ijm] = ijm_coeff\n",
    "                    right_coeff = - self.f(xi, yi) - ipj_const - ijp_const\n",
    "                    b[counter] = right_coeff\n",
    "                elif i == 0 and j == m - 1:\n",
    "                    system[counter, index] = ij_coeff\n",
    "                    system[counter, index_ipj] = ipj_coeff\n",
    "                    system[counter, index_ijm] = ijm_coeff\n",
    "                    right_coeff = - self.f(xi, yi) - imj_const - ijp_const\n",
    "                    b[counter] = right_coeff\n",
    "                elif i == n - 1 and j == 0:\n",
    "                    system[counter, index] = ij_coeff\n",
    "                    system[counter, index_ijp] = ijp_coeff\n",
    "                    system[counter, index_imj] = imj_coeff\n",
    "                    right_coeff = - self.f(xi, yi) - ijm_const - ipj_const\n",
    "                    b[counter] = right_coeff\n",
    "                elif i == 0 and j > 0 and j < m - 1:\n",
    "                    system[counter, index] = ij_coeff\n",
    "                    system[counter, index_ipj] = ipj_coeff\n",
    "                    system[counter, index_ijm] = ijm_coeff\n",
    "                    system[counter, index_ijp] = ijp_coeff\n",
    "                    right_coeff = - self.f(xi, yi) - imj_const\n",
    "                    b[counter] = right_coeff\n",
    "                elif i == n - 1 and j > 0 and j < m - 1:\n",
    "                    system[counter, index] = ij_coeff\n",
    "                    system[counter, index_imj] = imj_coeff\n",
    "                    system[counter, index_ijm] = ijm_coeff\n",
    "                    system[counter, index_ijp] = ijp_coeff\n",
    "                    right_coeff = - self.f(xi, yi) - ipj_const\n",
    "                    b[counter] = right_coeff\n",
    "                elif i > 0 and i < n - 1 and j == 0:\n",
    "                    system[counter, index] = ij_coeff\n",
    "                    system[counter, index_imj] = imj_coeff\n",
    "                    system[counter, index_ipj] = ipj_coeff\n",
    "                    system[counter, index_ijp] = ijp_coeff\n",
    "                    right_coeff = - self.f(xi, yi) - ijm_const\n",
    "                    b[counter] = right_coeff\n",
    "                elif i > 0 and i < n - 1 and j == m - 1:\n",
    "                    system[counter, index] = ij_coeff\n",
    "                    system[counter, index_imj] = imj_coeff\n",
    "                    system[counter, index_ipj] = ipj_coeff\n",
    "                    system[counter, index_ijm] = ijm_coeff\n",
    "                    right_coeff = - self.f(xi, yi) - ijp_const\n",
    "                    b[counter] = right_coeff \n",
    "                else:\n",
    "                    system[counter, get_index(i, j)] = ij_coeff\n",
    "                    system[counter, get_index(i + 1, j)] = ipj_coeff\n",
    "                    system[counter, get_index(i - 1, j)] = imj_coeff\n",
    "                    system[counter, get_index(i, j + 1)] = ijp_coeff\n",
    "                    system[counter, get_index(i, j - 1)] = ijm_coeff\n",
    "                    b[counter] = - self.f(xi, yi)\n",
    "    \n",
    "    \n",
    "                counter  = counter + 1\n",
    "                #ij_coeff = -p1(xi, yi) / (self.hx ** 2) - p2(xi, yi) / (self.hx ** 2) - q1(xi, yi) / (self.hy ** 2) - q2(xi, yi) / (self.hy ** 2)\n",
    "                # ipj_coeff = p1(xi, yi) / (self.hx ** 2)\n",
    "                # imj_coeff = p2(xi, yi) / (self.hx ** 2)\n",
    "                # ijp_coeff = q1(xi, yi) / (self.hy ** 2)\n",
    "                # ijm_coeff = q2(xi, yi) / (self.hy ** 2)\n",
    "                # A[counter, get_index(i, j)] = ij_coeff\n",
    "                # A[counter, get_index(i + 1, j)] = ipj_coeff\n",
    "                # A[counter, get_index(i - 1, j)] = imj_coeff\n",
    "                # A[counter, get_index(i, j + 1)] = ijp_coeff\n",
    "                # x = 1\n",
    "        \n",
    "        HD, GD = transform(system, b)\n",
    "        appr = seidel_method(HD, GD, 8)\n",
    "        appr1 = np.linalg.solve(system, b)\n",
    "        result = np.arange(m * n).reshape(n, m)\n",
    "        for index in range(appr.shape[0]):\n",
    "            i, j = get_ij(index)\n",
    "            result[i, j] = appr[index]\n",
    "            \n",
    "        return appr #system.shape[0], system.shape[0]\n",
    "    \n",
    "    def _get_net(self):\n",
    "        x_net = np.linspace(self.lx, self.rx, num=self.x_coords)\n",
    "        y_net = np.linspace(self.by, self.uy, num=self.y_coords)\n",
    "        return x_net, y_net\n",
    "    \n",
    "\n",
    "def p(x, y):\n",
    "    return 1\n",
    "\n",
    "def q(x, y):\n",
    "    return 1\n",
    "\n",
    "def f(x, y):\n",
    "    return -6 * x * y - 2 * x\n",
    "\n",
    "def mu(x, y):\n",
    "    return (x ** 3) * y + x * (y ** 2)  \n",
    "\n",
    "\n",
    "#solver = Solve([p, q, f], 1.0, [0.0, 1.0, 0.0, 1.0], mu, 11, 11)\n",
    "#F, S = solver.process()\n",
    "\n",
    "\n",
    "#F[10, :]\n",
    "\n",
    "#HD, GD = transform(F, S)\n",
    "\n",
    "\n",
    "#x = simple_iteration_method(HD, GD, 5)\n",
    "#x\n",
    "#np.ones(5)\n",
    "mu(1, 1)"
   ]
  },
  {
   "cell_type": "code",
   "execution_count": 31,
   "id": "b32316fc",
   "metadata": {
    "scrolled": true
   },
   "outputs": [
    {
     "data": {
      "text/plain": [
       "array([[0.        ],\n",
       "       [0.        ],\n",
       "       [0.        ],\n",
       "       ...,\n",
       "       [1.53100075],\n",
       "       [1.66151477],\n",
       "       [1.80563494]])"
      ]
     },
     "execution_count": 31,
     "metadata": {},
     "output_type": "execute_result"
    }
   ],
   "source": [
    "# Test\n",
    "solver = Solve([p, q, f], 1.0, [0.0, 1.0, 0.0, 1.0], mu, 81, 81)\n",
    "solver.process()\n",
    "\n",
    "#result = np.arange(9 * 9).reshape(9, 9)\n",
    "#def get_ij(index):\n",
    "#    return (int)(index / 9), index % 9\n",
    "        \n",
    "#for index in range(appr.shape[0]):\n",
    "#    i, j = get_ij(index)\n",
    "#    print(\"data\", appr[index])\n",
    "#    result[i, j] = appr[index]\n",
    "        \n",
    "#result"
   ]
  },
  {
   "cell_type": "code",
   "execution_count": 13,
   "id": "0b6d59b5",
   "metadata": {
    "scrolled": true
   },
   "outputs": [
    {
     "data": {
      "text/plain": [
       "array([1. , 0.9, 0.8, 0.7, 0.6, 0.5, 0.4, 0.3, 0.2, 0.1, 0. ])"
      ]
     },
     "execution_count": 13,
     "metadata": {},
     "output_type": "execute_result"
    }
   ],
   "source": [
    "np.flip(np.linspace(0.0, 1.0, 11))"
   ]
  },
  {
   "cell_type": "code",
   "execution_count": 10,
   "id": "23916015",
   "metadata": {
    "scrolled": true
   },
   "outputs": [
    {
     "data": {
      "text/plain": [
       "(array([[ 0,  1,  2,  3],\n",
       "        [ 4,  5,  6,  7],\n",
       "        [ 8,  9, 10, 11],\n",
       "        [12, 13, 14, 15],\n",
       "        [16, 17, 18, 19]]),\n",
       " array([[ 5,  6],\n",
       "        [ 9, 10],\n",
       "        [13, 14]]))"
      ]
     },
     "execution_count": 10,
     "metadata": {},
     "output_type": "execute_result"
    }
   ],
   "source": [
    "def get_index(i, j, m, n):\n",
    "        return i * (m - 1) + j\n",
    "        \n",
    "        \n",
    "m = 4\n",
    "n = 5\n",
    "a = np.arange(m * n).reshape((n, m))\n",
    "\n",
    "b = np.arange((m - 2) * (n - 2)).reshape(n - 2, m - 2)\n",
    "\n",
    "for i in range(0, n - 2):\n",
    "    for j in range(0, m - 2):\n",
    "        b[i, j] = a[i + 1, j + 1]\n",
    "        \n",
    "a, b"
   ]
  },
  {
   "cell_type": "code",
   "execution_count": 11,
   "id": "5ebf6c89",
   "metadata": {},
   "outputs": [
    {
     "name": "stdout",
     "output_type": "stream",
     "text": [
      "1\n",
      "2\n",
      "3\n",
      "4\n"
     ]
    }
   ],
   "source": [
    "for i in range(1, 5):\n",
    "    print(i)"
   ]
  },
  {
   "cell_type": "code",
   "execution_count": 12,
   "id": "0a191c9c",
   "metadata": {},
   "outputs": [
    {
     "name": "stdout",
     "output_type": "stream",
     "text": [
      "0.0 2.0\n",
      "0.1 2.0\n",
      "0.2 2.0\n",
      "0.30000000000000004 2.0\n",
      "0.4 2.0\n",
      "0.5 2.0\n",
      "0.6000000000000001 2.0\n",
      "0.7000000000000001 2.0\n",
      "0.8 2.0\n",
      "0.9 2.0\n",
      "1.0 2.0\n",
      "0.0 1.0\n",
      "0.1 1.0\n",
      "0.2 1.0\n",
      "0.30000000000000004 1.0\n",
      "0.4 1.0\n",
      "0.5 1.0\n",
      "0.6000000000000001 1.0\n",
      "0.7000000000000001 1.0\n",
      "0.8 1.0\n",
      "0.9 1.0\n",
      "1.0 1.0\n",
      "0.0 0.0\n",
      "0.1 0.0\n",
      "0.2 0.0\n",
      "0.30000000000000004 0.0\n",
      "0.4 0.0\n",
      "0.5 0.0\n",
      "0.6000000000000001 0.0\n",
      "0.7000000000000001 0.0\n",
      "0.8 0.0\n",
      "0.9 0.0\n",
      "1.0 0.0\n"
     ]
    },
    {
     "data": {
      "text/plain": [
       "0"
      ]
     },
     "execution_count": 12,
     "metadata": {},
     "output_type": "execute_result"
    }
   ],
   "source": [
    "def coords(x_net, y_net, m, n):\n",
    "    for j in range(n):\n",
    "        for i in range(m):\n",
    "            print(x_net[i], y_net[j])\n",
    "            index = get_index(i, j, n, m)\n",
    "            x = 1\n",
    "    return 0\n",
    "\n",
    "m, n = 11, 3\n",
    "x_net = np.linspace(0.0, 1.0, m)\n",
    "y_net = np.linspace(2.0, 0.0, n)\n",
    "y_net\n",
    "coords(x_net, y_net, m, n)"
   ]
  },
  {
   "cell_type": "code",
   "execution_count": 75,
   "id": "a23a886e",
   "metadata": {},
   "outputs": [
    {
     "data": {
      "image/png": "[encoded data removed]",
      "text/plain": [
       "<Figure size 432x432 with 1 Axes>"
      ]
     },
     "metadata": {
      "needs_background": "light"
     },
     "output_type": "display_data"
    }
   ],
   "source": [
    "from mpl_toolkits.mplot3d import axes3d\n",
    "import matplotlib.pyplot as plt\n",
    "import numpy as np\n",
    "#if using a Jupyter notebook, include:\n",
    "%matplotlib inline\n",
    "\n",
    "x = np.arange(-5.0,0.1)\n",
    "y = np.arange(-5.0, 0.1)\n",
    "X,Y = np.meshgrid(x,y)\n",
    "#Z = X*np.exp(-X - Y)\n",
    "Z = mu(X, Y)\n",
    "\n",
    "fig = plt.figure(figsize=(6,6))\n",
    "ax = fig.add_subplot(111, projection='3d')\n",
    "\n",
    "\n",
    "# Plot a 3D surface\n",
    "ax.plot_surface(X, Y, Z)\n",
    "\n",
    "\n",
    "plt.show()"
   ]
  },
  {
   "cell_type": "code",
   "execution_count": 14,
   "id": "46a9ade0",
   "metadata": {},
   "outputs": [
    {
     "data": {
      "text/plain": [
       "array([[ 0,  1,  2,  3,  4],\n",
       "       [ 5,  6,  7,  8,  9],\n",
       "       [10, 11, 12, 13, 14],\n",
       "       [15, 16, 17, 18, 19]])"
      ]
     },
     "execution_count": 14,
     "metadata": {},
     "output_type": "execute_result"
    }
   ],
   "source": [
    "np.arange(4 * 5).reshape((4, 5))\n",
    "        "
   ]
  },
  {
   "cell_type": "code",
   "execution_count": 15,
   "id": "407ab6a2",
   "metadata": {},
   "outputs": [
    {
     "data": {
      "text/plain": [
       "True"
      ]
     },
     "execution_count": 15,
     "metadata": {},
     "output_type": "execute_result"
    }
   ],
   "source": [
    "1 == 1"
   ]
  },
  {
   "cell_type": "code",
   "execution_count": 16,
   "id": "9977c732",
   "metadata": {},
   "outputs": [
    {
     "name": "stdout",
     "output_type": "stream",
     "text": [
      "1\n",
      "2\n",
      "3\n"
     ]
    },
    {
     "data": {
      "text/plain": [
       "array([0, 1, 2, 3, 4])"
      ]
     },
     "execution_count": 16,
     "metadata": {},
     "output_type": "execute_result"
    }
   ],
   "source": [
    "d = np.arange(5)\n",
    "for i in range(1, 4):\n",
    "    print(i)\n",
    "    \n",
    "np.arange(5)"
   ]
  },
  {
   "cell_type": "code",
   "execution_count": 17,
   "id": "a12da5a1",
   "metadata": {},
   "outputs": [
    {
     "data": {
      "text/plain": [
       "(array([[ 0,  1,  2,  3,  4],\n",
       "        [ 5,  6,  7,  8,  9],\n",
       "        [10, 11, 12, 13, 14],\n",
       "        [15, 16, 17, 18, 19]]),\n",
       " 9,\n",
       " (1, 4))"
      ]
     },
     "execution_count": 17,
     "metadata": {},
     "output_type": "execute_result"
    }
   ],
   "source": [
    "n = 4\n",
    "m = 5\n",
    "\n",
    "def get_id(i, j):\n",
    "    return i * m + j\n",
    "    \n",
    "\n",
    "def get_ij(index):\n",
    "    return (int)(index / m), index % m\n",
    "a = np.arange(m * n).reshape((n, m))\n",
    "a, get_id(1, 4), get_ij(9)"
   ]
  },
  {
   "cell_type": "code",
   "execution_count": 18,
   "id": "17f4370a",
   "metadata": {},
   "outputs": [
    {
     "data": {
      "text/plain": [
       "array([0, 1, 2, 3, 4])"
      ]
     },
     "execution_count": 18,
     "metadata": {},
     "output_type": "execute_result"
    }
   ],
   "source": [
    "np.arange(5)"
   ]
  }
 ],
 "metadata": {
  "kernelspec": {
   "display_name": "Python 3 (ipykernel)",
   "language": "python",
   "name": "python3"
  },
  "language_info": {
   "codemirror_mode": {
    "name": "ipython",
    "version": 3
   },
   "file_extension": ".py",
   "mimetype": "text/x-python",
   "name": "python",
   "nbconvert_exporter": "python",
   "pygments_lexer": "ipython3",
   "version": "3.8.10"
  }
 },
 "nbformat": 4,
 "nbformat_minor": 5
}
