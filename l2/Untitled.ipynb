{
 "cells": [
  {
   "cell_type": "code",
   "execution_count": 56,
   "id": "0b08fea6",
   "metadata": {},
   "outputs": [],
   "source": [
    "import numpy as np\n",
    "from numpy import ndarray"
   ]
  },
  {
   "cell_type": "code",
   "execution_count": 61,
   "id": "f49b5d7a",
   "metadata": {},
   "outputs": [],
   "source": [
    "def solve_upper_trig(A: np.ndarray, b: np.ndarray):\n",
    "    n = A.shape[0]\n",
    "    A = np.c_[A, b]\n",
    "    solutions = np.array([A[n - 1][n] / A[n - 1][n - 1]])\n",
    "    for i in range(n - 2, -1, -1):\n",
    "        x = A[i][n] - np.dot(solutions, A[i, (i+1):n])\n",
    "        solutions = np.insert(solutions, 0, x / A[i, i])\n",
    "    solutions = solutions.T\n",
    "    return solutions\n",
    "\n",
    "\n",
    "def solve_down_trig(A: np.ndarray, b: np.ndarray):\n",
    "    n = A.shape[0]\n",
    "    A = np.c_[A, b]\n",
    "    solutions = np.array([A[0][n] / A[0][0]])\n",
    "    for i in range(1, n):\n",
    "        print(\"Data\", solutions, A[i, 0:i])\n",
    "        x = A[i][n] - np.dot(solutions, A[i, 0:i])\n",
    "        solutions = np.insert(solutions, solutions.shape[0], x / A[i, i])  # x = np.insert(x, x.shape[0], 8)\n",
    "    solution = solutions.T\n",
    "    return solutions\n",
    "    \n",
    "\n",
    "def cond(m: np.array):\n",
    "    M_inv = np.linalg.inv(m)\n",
    "    return norm(M_inv) * norm(m)\n",
    "\n",
    "class LUDecomposition:\n",
    "    def __init__(self, A: ndarray):\n",
    "        self.n = A.shape[0]\n",
    "        self.A = A\n",
    "        self.U = np.identity(self.n)\n",
    "        self.L = np.identity(self.n)\n",
    "\n",
    "        self.generate_decomposition()\n",
    "\n",
    "    def generate_decomposition(self):\n",
    "        for i in range(self.n):\n",
    "            for j in range(i, self.n):\n",
    "                self.L[j, i] = self.A[j, i]\n",
    "                if i > 0:\n",
    "                    self.L[j, i] -= np.dot(self.L[j, 0:i], self.U[0:i, i])\n",
    "            for j in range(i, self.n):\n",
    "                self.U[i, j] = self.A[i, j] / self.L[i, i]\n",
    "                if i > 0:\n",
    "                    self.U[i, j] -= np.dot(self.L[i, 0:i], self.U[0:i, j]) / self.L[i, i]\n",
    "\n",
    "    def determinant(self):\n",
    "        return np.product(np.diag(self.L))"
   ]
  },
  {
   "cell_type": "code",
   "execution_count": 32,
   "id": "b2c61515",
   "metadata": {},
   "outputs": [],
   "source": [
    "# Test\n",
    "A = np.array([\n",
    "    [3.278164, 1.046583, -1.378574],\n",
    "    [1.046583, 2.975937, 0.934251],\n",
    "    [-1.378574, 0.934251, 4.836173]\n",
    "])\n",
    "\n",
    "b = np.array([\n",
    "    [-0.527466],\n",
    "    [2.5268770],\n",
    "    [5.165441]\n",
    "])\n",
    "\n",
    "\n",
    "result = LUDecomposition(A)\n",
    "L = result.L \n",
    "U = result.U\n",
    "#solve_upper_trig()"
   ]
  },
  {
   "cell_type": "code",
   "execution_count": 33,
   "id": "bcea8172",
   "metadata": {
    "scrolled": false
   },
   "outputs": [
    {
     "data": {
      "text/plain": [
       "array([[1.05, 0.  , 0.  , 0.  , 0.  ],\n",
       "       [0.  , 1.05, 0.  , 0.  , 0.  ],\n",
       "       [0.  , 0.  , 1.05, 0.  , 0.  ],\n",
       "       [0.  , 0.  , 0.  , 1.05, 0.  ],\n",
       "       [0.  , 0.  , 0.  , 0.  , 1.05]])"
      ]
     },
     "execution_count": 33,
     "metadata": {},
     "output_type": "execute_result"
    }
   ],
   "source": [
    "np.eye(5) * 0.05 + np.eye(5)"
   ]
  },
  {
   "cell_type": "code",
   "execution_count": 34,
   "id": "aba5c9c2",
   "metadata": {},
   "outputs": [],
   "source": [
    "from scipy.linalg import hilbert\n",
    "import seaborn as sns\n",
    "from tqdm import tqdm\n",
    "\n",
    "def test(N, alpha):\n",
    "        A = hilbert(N)\n",
    "        new_A = A + np.eye(N) * alpha\n",
    "        right_solution = np.ones(N)\n",
    "        b = np.matmul(H, right_solution)\n",
    "        solution = np.linalg.solve(rounded_H, rounded_b)\n",
    "         \n",
    "            \n"
   ]
  },
  {
   "cell_type": "code",
   "execution_count": 35,
   "id": "d116746c",
   "metadata": {},
   "outputs": [
    {
     "data": {
      "text/plain": [
       "(array([ 0.99999996,  1.00000617,  0.99974078,  1.00468706,  0.95454968,\n",
       "         1.26357721,  0.03567496,  3.25113409, -2.19070893,  3.08755926,\n",
       "         2.06560055, -2.51875904,  4.19053597, -0.39030196,  1.24670427]),\n",
       " array([1.0005151 , 1.00078546, 0.98956162, 0.99441989, 1.00398367,\n",
       "        1.01227851, 1.01713985, 1.01815019, 1.01559961, 1.01001649,\n",
       "        1.00196548, 0.99196669, 0.98046904, 0.96784716, 0.95440755]))"
      ]
     },
     "execution_count": 35,
     "metadata": {},
     "output_type": "execute_result"
    }
   ],
   "source": [
    "N = 15\n",
    "H = hilbert(N)\n",
    "new_H = H + np.eye(N) * 0.001\n",
    "right_solution = np.ones(N)\n",
    "b = np.matmul(H, right_solution)\n",
    "solution1 = np.linalg.solve(H, b)\n",
    "solution2 = np.linalg.solve(new_H, b)\n",
    "solution1, solution2"
   ]
  },
  {
   "cell_type": "code",
   "execution_count": 52,
   "id": "cc1ff1ef",
   "metadata": {
    "scrolled": false
   },
   "outputs": [
    {
     "data": {
      "text/plain": [
       "array([ 5,  8,  9, 10])"
      ]
     },
     "execution_count": 52,
     "metadata": {},
     "output_type": "execute_result"
    }
   ],
   "source": [
    "x = np.array([5])\n",
    "x = np.insert(x, x.shape[0], 8)\n",
    "x = np.insert(x, x.shape[0], 9)\n",
    "x = np.insert(x, x.shape[0], 10)\n",
    "x"
   ]
  },
  {
   "cell_type": "code",
   "execution_count": 62,
   "id": "5f4005bc",
   "metadata": {
    "scrolled": false
   },
   "outputs": [
    {
     "name": "stdout",
     "output_type": "stream",
     "text": [
      "Data [1.] [2.]\n",
      "Data [1. 1.] [3. 1.]\n"
     ]
    },
    {
     "data": {
      "text/plain": [
       "array([1., 1., 1.])"
      ]
     },
     "execution_count": 62,
     "metadata": {},
     "output_type": "execute_result"
    }
   ],
   "source": [
    "A = np.array([\n",
    "    [1., 0., 0.],\n",
    "    [2., 1., 0.],\n",
    "    [3., 1., 5.]\n",
    "])\n",
    "\n",
    "x_ = np.array([\n",
    "    [1.],\n",
    "    [1.],\n",
    "    [1.]\n",
    "])\n",
    "\n",
    "b = np.matmul(A, x_)\n",
    "solve_down_trig(A, b)"
   ]
  },
  {
   "cell_type": "code",
   "execution_count": null,
   "id": "55f17b47",
   "metadata": {},
   "outputs": [],
   "source": []
  }
 ],
 "metadata": {
  "kernelspec": {
   "display_name": "Python 3 (ipykernel)",
   "language": "python",
   "name": "python3"
  },
  "language_info": {
   "codemirror_mode": {
    "name": "ipython",
    "version": 3
   },
   "file_extension": ".py",
   "mimetype": "text/x-python",
   "name": "python",
   "nbconvert_exporter": "python",
   "pygments_lexer": "ipython3",
   "version": "3.8.10"
  }
 },
 "nbformat": 4,
 "nbformat_minor": 5
}
