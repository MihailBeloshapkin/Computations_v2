{
 "cells": [
  {
   "cell_type": "code",
   "execution_count": 1,
   "id": "8df2e61b",
   "metadata": {},
   "outputs": [],
   "source": [
    "import numpy as np\n",
    "from numpy.linalg import norm\n",
    "import pandas as pd\n",
    "from typing import Tuple"
   ]
  },
  {
   "cell_type": "code",
   "execution_count": 2,
   "id": "1f06bb53",
   "metadata": {},
   "outputs": [],
   "source": [
    "def cond(m: np.array):\n",
    "    M_inv = np.linalg.inv(m)\n",
    "    return norm(M_inv) * norm(m)\n",
    "\n",
    "def sin(z: np.ndarray, i : int, j : int):\n",
    "    return - z[j] / np.sqrt(z[i]**2 + z[j]**2)\n",
    "\n",
    "def cos(z: np.ndarray, i : int, j : int):\n",
    "    return z[i] / np.sqrt(z[i]**2 + z[j]**2)\n",
    "\n",
    "def get_t(i: int, j: int, z: np.ndarray):\n",
    "    n = z.shape[0]\n",
    "    cos_phi = cos(z, i, j)\n",
    "    sin_phi = sin(z, i, j)\n",
    "    T = np.identity(n)\n",
    "    T[i, i] = cos_phi\n",
    "    T[j, j] = cos_phi\n",
    "    T[j, i] = sin_phi\n",
    "    T[i, j] = -sin_phi\n",
    "    return T\n",
    "\n",
    "\n",
    "def get_q(A: np.ndarray) -> np.ndarray:\n",
    "    n = A.shape[0]\n",
    "    A_copy = A.copy()\n",
    "    M = np.eye(n)\n",
    "    for i in range(n):\n",
    "        for j in range(i + 1, n):\n",
    "            T = get_t(i, j, A_copy[:, i])\n",
    "            T_inv = np.linalg.inv(T)\n",
    "            M = np.matmul(M, T_inv)        #T.T)\n",
    "            A_copy = np.matmul(T, A_copy)\n",
    "    return M\n",
    "\n",
    "def get_qr(A: np.ndarray) -> Tuple[np.ndarray, np.ndarray]:\n",
    "    Q = get_q(A)\n",
    "    return Q, np.matmul(Q.T, A)"
   ]
  },
  {
   "cell_type": "code",
   "execution_count": 3,
   "id": "6cfee842",
   "metadata": {},
   "outputs": [],
   "source": [
    "def solve_trig(A: np.ndarray, b: np.ndarray):\n",
    "    n = A.shape[0]\n",
    "    A = np.c_[A, b]\n",
    "    solutions = np.array([A[n - 1][n] / A[n - 1][n - 1]])\n",
    "    for i in range(n - 2, -1, -1):\n",
    "        x = A[i][n] - np.dot(solutions, A[i, (i+1):n])\n",
    "        solutions = np.insert(solutions, 0, x / A[i, i])\n",
    "    solutions = solutions.T\n",
    "    return solutions\n",
    "\n",
    "def solve_with_qr(A: np.ndarray, u: np.ndarray):\n",
    "    n = A.shape[0]\n",
    "    Q, R = get_qr(A)\n",
    "    new_u = np.matmul(Q.T, u)\n",
    "    x = solve_trig(R, new_u)\n",
    "    stat = pd.DataFrame({\n",
    "        'Crit Q': [cond(Q)],\n",
    "        'Crit R': [cond(R)],\n",
    "        'Crit A': [cond(A)]\n",
    "    })\n",
    "\n",
    "    return x, stat"
   ]
  },
  {
   "cell_type": "markdown",
   "id": "1b5d1543",
   "metadata": {},
   "source": [
    "Test"
   ]
  },
  {
   "cell_type": "code",
   "execution_count": 4,
   "id": "6a654f1f",
   "metadata": {},
   "outputs": [
    {
     "data": {
      "text/html": [
       "<div>\n",
       "<style scoped>\n",
       "    .dataframe tbody tr th:only-of-type {\n",
       "        vertical-align: middle;\n",
       "    }\n",
       "\n",
       "    .dataframe tbody tr th {\n",
       "        vertical-align: top;\n",
       "    }\n",
       "\n",
       "    .dataframe thead th {\n",
       "        text-align: right;\n",
       "    }\n",
       "</style>\n",
       "<table border=\"1\" class=\"dataframe\">\n",
       "  <thead>\n",
       "    <tr style=\"text-align: right;\">\n",
       "      <th></th>\n",
       "      <th>Crit Q</th>\n",
       "      <th>Crit R</th>\n",
       "      <th>Crit A</th>\n",
       "    </tr>\n",
       "  </thead>\n",
       "  <tbody>\n",
       "    <tr>\n",
       "      <th>0</th>\n",
       "      <td>2.0</td>\n",
       "      <td>39206.0</td>\n",
       "      <td>39206.0</td>\n",
       "    </tr>\n",
       "  </tbody>\n",
       "</table>\n",
       "</div>"
      ],
      "text/plain": [
       "   Crit Q   Crit R   Crit A\n",
       "0     2.0  39206.0  39206.0"
      ]
     },
     "execution_count": 4,
     "metadata": {},
     "output_type": "execute_result"
    }
   ],
   "source": [
    "A = np.array([\n",
    "    [1, 0.99],\n",
    "    [0.99, 0.98]\n",
    "])\n",
    "\n",
    "b = np.array([\n",
    "    [1.99],\n",
    "    [1.97]\n",
    "])\n",
    "\n",
    "x, stat = solve_with_qr(A, b)\n",
    "stat"
   ]
  },
  {
   "cell_type": "code",
   "execution_count": 5,
   "id": "21867d71",
   "metadata": {},
   "outputs": [
    {
     "data": {
      "text/plain": [
       "array([1., 1.])"
      ]
     },
     "execution_count": 5,
     "metadata": {},
     "output_type": "execute_result"
    }
   ],
   "source": [
    "x"
   ]
  },
  {
   "cell_type": "code",
   "execution_count": 6,
   "id": "e7a5b5ba",
   "metadata": {},
   "outputs": [
    {
     "data": {
      "text/html": [
       "<div>\n",
       "<style scoped>\n",
       "    .dataframe tbody tr th:only-of-type {\n",
       "        vertical-align: middle;\n",
       "    }\n",
       "\n",
       "    .dataframe tbody tr th {\n",
       "        vertical-align: top;\n",
       "    }\n",
       "\n",
       "    .dataframe thead th {\n",
       "        text-align: right;\n",
       "    }\n",
       "</style>\n",
       "<table border=\"1\" class=\"dataframe\">\n",
       "  <thead>\n",
       "    <tr style=\"text-align: right;\">\n",
       "      <th></th>\n",
       "      <th>Crit Q</th>\n",
       "      <th>Crit R</th>\n",
       "      <th>Crit A</th>\n",
       "    </tr>\n",
       "  </thead>\n",
       "  <tbody>\n",
       "    <tr>\n",
       "      <th>0</th>\n",
       "      <td>10.0</td>\n",
       "      <td>1.633240e+13</td>\n",
       "      <td>1.633232e+13</td>\n",
       "    </tr>\n",
       "  </tbody>\n",
       "</table>\n",
       "</div>"
      ],
      "text/plain": [
       "   Crit Q        Crit R        Crit A\n",
       "0    10.0  1.633240e+13  1.633232e+13"
      ]
     },
     "execution_count": 6,
     "metadata": {},
     "output_type": "execute_result"
    }
   ],
   "source": [
    "from scipy.linalg import hilbert\n",
    "\n",
    "h1 = hilbert(10)\n",
    "u = np.matmul(h1, np.ones(10))\n",
    "_, stat = solve_with_qr(h1, u)\n",
    "stat"
   ]
  },
  {
   "cell_type": "code",
   "execution_count": 7,
   "id": "fd656d6c",
   "metadata": {},
   "outputs": [
    {
     "data": {
      "text/html": [
       "<div>\n",
       "<style scoped>\n",
       "    .dataframe tbody tr th:only-of-type {\n",
       "        vertical-align: middle;\n",
       "    }\n",
       "\n",
       "    .dataframe tbody tr th {\n",
       "        vertical-align: top;\n",
       "    }\n",
       "\n",
       "    .dataframe thead th {\n",
       "        text-align: right;\n",
       "    }\n",
       "</style>\n",
       "<table border=\"1\" class=\"dataframe\">\n",
       "  <thead>\n",
       "    <tr style=\"text-align: right;\">\n",
       "      <th></th>\n",
       "      <th>Crit Q</th>\n",
       "      <th>Crit R</th>\n",
       "      <th>Crit A</th>\n",
       "    </tr>\n",
       "  </thead>\n",
       "  <tbody>\n",
       "    <tr>\n",
       "      <th>0</th>\n",
       "      <td>50.0</td>\n",
       "      <td>9.828733e+18</td>\n",
       "      <td>1.502597e+19</td>\n",
       "    </tr>\n",
       "  </tbody>\n",
       "</table>\n",
       "</div>"
      ],
      "text/plain": [
       "   Crit Q        Crit R        Crit A\n",
       "0    50.0  9.828733e+18  1.502597e+19"
      ]
     },
     "execution_count": 7,
     "metadata": {},
     "output_type": "execute_result"
    }
   ],
   "source": [
    "h2 = hilbert(50)\n",
    "u = np.matmul(h2, np.ones(50))\n",
    "_, stat = solve_with_qr(h2, u)\n",
    "stat"
   ]
  }
 ],
 "metadata": {
  "kernelspec": {
   "display_name": "Python 3 (ipykernel)",
   "language": "python",
   "name": "python3"
  },
  "language_info": {
   "codemirror_mode": {
    "name": "ipython",
    "version": 3
   },
   "file_extension": ".py",
   "mimetype": "text/x-python",
   "name": "python",
   "nbconvert_exporter": "python",
   "pygments_lexer": "ipython3",
   "version": "3.8.10"
  }
 },
 "nbformat": 4,
 "nbformat_minor": 5
}
