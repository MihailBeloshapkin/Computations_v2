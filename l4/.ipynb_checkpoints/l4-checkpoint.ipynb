{
 "cells": [
  {
   "cell_type": "code",
   "execution_count": 1,
   "id": "324b9cec",
   "metadata": {},
   "outputs": [],
   "source": [
    "import numpy as np"
   ]
  },
  {
   "cell_type": "code",
   "execution_count": 2,
   "id": "fb61c52e",
   "metadata": {},
   "outputs": [
    {
     "data": {
      "text/plain": [
       "(array([[ 7.35272 ,  0.88255 , -1.378574],\n",
       "        [ 0.88255 ,  5.58351 ,  0.528167],\n",
       "        [-2.27005 ,  0.528167,  4.430329]]),\n",
       " array([[1],\n",
       "        [0],\n",
       "        [0]]))"
      ]
     },
     "execution_count": 2,
     "metadata": {},
     "output_type": "execute_result"
    }
   ],
   "source": [
    "A = np.array([\n",
    "    [7.35272, 0.88255, -1.378574],\n",
    "    [0.88255,   5.58351,   0.528167],\n",
    "    [-2.27005,  0.528167,   4.430329]\n",
    "])\n",
    "\n",
    "b = np.array([\n",
    "    [1],\n",
    "    [0],\n",
    "    [0]\n",
    "])\n",
    "A, b"
   ]
  },
  {
   "cell_type": "code",
   "execution_count": 3,
   "id": "32107f46",
   "metadata": {},
   "outputs": [
    {
     "data": {
      "text/plain": [
       "array([[ 0.15557738],\n",
       "       [-0.03249829],\n",
       "       [ 0.0835904 ]])"
      ]
     },
     "execution_count": 3,
     "metadata": {},
     "output_type": "execute_result"
    }
   ],
   "source": [
    "solution = np.linalg.solve(A, b)\n",
    "solution"
   ]
  },
  {
   "cell_type": "code",
   "execution_count": 4,
   "id": "6ba2625e",
   "metadata": {},
   "outputs": [],
   "source": [
    "# Transforms A and b to the right form\n",
    "def transform(A, b):\n",
    "    size = A.shape[0]\n",
    "    D = np.identity(size)\n",
    "    A_diag_indices = np.diag(A)\n",
    "    D[np.diag_indices_from(D)] = A_diag_indices\n",
    "    HD = np.identity(size) - np.matmul(np.linalg.inv(D), A)\n",
    "    gD = np.matmul(np.linalg.inv(D), b)\n",
    "    return HD, gD"
   ]
  },
  {
   "cell_type": "code",
   "execution_count": 5,
   "id": "92eadfb1",
   "metadata": {},
   "outputs": [
    {
     "data": {
      "text/plain": [
       "(array([[ 0.        , -0.12003041,  0.1874917 ],\n",
       "        [-0.15806366,  0.        , -0.09459408],\n",
       "        [ 0.51238858, -0.1192162 ,  0.        ]]),\n",
       " array([[0.13600409],\n",
       "        [0.        ],\n",
       "        [0.        ]]))"
      ]
     },
     "execution_count": 5,
     "metadata": {},
     "output_type": "execute_result"
    }
   ],
   "source": [
    "transform(A, b)"
   ]
  },
  {
   "cell_type": "code",
   "execution_count": 6,
   "id": "23686da3",
   "metadata": {},
   "outputs": [],
   "source": [
    "def inf_norm(arr):\n",
    "    return np.linalg.norm(arr, ord=np.inf)\n",
    "\n",
    "\n",
    "def simple_iteration_method(H, g, epsilon, right_solution):\n",
    "    n = H.shape[0]\n",
    "    x = np.zeros((n, 1))\n",
    "    delta = epsilon\n",
    "    k = 0\n",
    "    while delta >= epsilon:\n",
    "        x = np.matmul(H, x) + g\n",
    "        delta = inf_norm(x - right_solution)\n",
    "        k = k + 1\n",
    "    return x, k\n",
    "\n",
    "def seidel_method(H, g, accuracy, right_solution):\n",
    "    n = H.shape[0]\n",
    "    prev_x = np.zeros(n)\n",
    "    x = np.zeros(n)\n",
    "    k = 0\n",
    "    delta = accuracy \n",
    "    while delta >= accuracy and k < 100:\n",
    "        for i in range(n):\n",
    "            x[i] = np.dot(H[i, 0:i], x[0:i]) + np.dot(H[i, i:n], prev_x[i:n]) + g[i]\n",
    "        prev_x = x\n",
    "        delta = inf_norm(x.reshape((n, 1)) - right_solution)\n",
    "        k = k + 1\n",
    "    return x.reshape((n, 1)), k"
   ]
  },
  {
   "cell_type": "code",
   "execution_count": 7,
   "id": "2933d656",
   "metadata": {},
   "outputs": [
    {
     "data": {
      "text/plain": [
       "(array([[ 0.15520522],\n",
       "        [-0.03224314],\n",
       "        [ 0.08316377]]),\n",
       " 6,\n",
       " array([[ 0.15557738],\n",
       "        [-0.03249829],\n",
       "        [ 0.0835904 ]]))"
      ]
     },
     "execution_count": 7,
     "metadata": {},
     "output_type": "execute_result"
    }
   ],
   "source": [
    "# Iteration method\n",
    "HD, g_D = transform(A, b)\n",
    "x, k1 = simple_iteration_method(HD, g_D, 0.001, solution)\n",
    "x, k1, solution"
   ]
  },
  {
   "cell_type": "code",
   "execution_count": 8,
   "id": "2cb2da00",
   "metadata": {},
   "outputs": [
    {
     "data": {
      "text/plain": [
       "(array([[ 0.13600409],\n",
       "        [-0.0214973 ],\n",
       "        [ 0.07224977]]),\n",
       " 1)"
      ]
     },
     "execution_count": 8,
     "metadata": {},
     "output_type": "execute_result"
    }
   ],
   "source": [
    "# Seidel method\n",
    "seidel_method(HD, g_D, 0.1, solution)"
   ]
  },
  {
   "cell_type": "code",
   "execution_count": 9,
   "id": "31d57ead",
   "metadata": {},
   "outputs": [],
   "source": [
    "from scipy.linalg import hilbert"
   ]
  },
  {
   "cell_type": "code",
   "execution_count": 10,
   "id": "5f4dd456",
   "metadata": {},
   "outputs": [
    {
     "data": {
      "text/plain": [
       "array([1., 1., 1., 1., 1.])"
      ]
     },
     "execution_count": 10,
     "metadata": {},
     "output_type": "execute_result"
    }
   ],
   "source": [
    "h_5 = hilbert(5)\n",
    "u = np.matmul(h_5, np.ones(5))\n",
    "np.linalg.solve(h_5, u)"
   ]
  }
 ],
 "metadata": {
  "kernelspec": {
   "display_name": "Python 3 (ipykernel)",
   "language": "python",
   "name": "python3"
  },
  "language_info": {
   "codemirror_mode": {
    "name": "ipython",
    "version": 3
   },
   "file_extension": ".py",
   "mimetype": "text/x-python",
   "name": "python",
   "nbconvert_exporter": "python",
   "pygments_lexer": "ipython3",
   "version": "3.8.10"
  }
 },
 "nbformat": 4,
 "nbformat_minor": 5
}
