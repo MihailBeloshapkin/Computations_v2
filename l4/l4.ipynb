{
 "cells": [
  {
   "cell_type": "code",
   "execution_count": 1,
   "id": "324b9cec",
   "metadata": {},
   "outputs": [],
   "source": [
    "import numpy as np"
   ]
  },
  {
   "cell_type": "code",
   "execution_count": 2,
   "id": "fb61c52e",
   "metadata": {},
   "outputs": [
    {
     "data": {
      "text/plain": [
       "(array([[ 7.35272 ,  0.88255 , -1.378574],\n",
       "        [ 0.88255 ,  5.58351 ,  0.528167],\n",
       "        [-2.27005 ,  0.528167,  4.430329]]),\n",
       " array([[1],\n",
       "        [0],\n",
       "        [0]]))"
      ]
     },
     "execution_count": 2,
     "metadata": {},
     "output_type": "execute_result"
    }
   ],
   "source": [
    "A = np.array([\n",
    "    [7.35272, 0.88255, -1.378574],\n",
    "    [0.88255,   5.58351,   0.528167],\n",
    "    [-2.27005,  0.528167,   4.430329]\n",
    "])\n",
    "\n",
    "b = np.array([\n",
    "    [1],\n",
    "    [0],\n",
    "    [0]\n",
    "])\n",
    "A, b"
   ]
  },
  {
   "cell_type": "code",
   "execution_count": 3,
   "id": "32107f46",
   "metadata": {},
   "outputs": [
    {
     "data": {
      "text/plain": [
       "array([[ 0.15557738],\n",
       "       [-0.03249829],\n",
       "       [ 0.0835904 ]])"
      ]
     },
     "execution_count": 3,
     "metadata": {},
     "output_type": "execute_result"
    }
   ],
   "source": [
    "solution = np.linalg.solve(A, b)\n",
    "solution"
   ]
  },
  {
   "cell_type": "code",
   "execution_count": 4,
   "id": "882f0e41",
   "metadata": {},
   "outputs": [],
   "source": [
    "size = A.shape[0]"
   ]
  },
  {
   "cell_type": "code",
   "execution_count": 5,
   "id": "910afaee",
   "metadata": {},
   "outputs": [
    {
     "data": {
      "text/plain": [
       "array([[7.35272 , 0.      , 0.      ],\n",
       "       [0.      , 5.58351 , 0.      ],\n",
       "       [0.      , 0.      , 4.430329]])"
      ]
     },
     "execution_count": 5,
     "metadata": {},
     "output_type": "execute_result"
    }
   ],
   "source": [
    "# Transform origin matrix to a right form:\n",
    "\n",
    "D = np.identity(size)\n",
    "A_diag_indices = np.diag(A)\n",
    "D[np.diag_indices_from(D)] = A_diag_indices\n",
    "D"
   ]
  },
  {
   "cell_type": "code",
   "execution_count": 6,
   "id": "118c9b86",
   "metadata": {},
   "outputs": [
    {
     "data": {
      "text/plain": [
       "array([[ 0.        , -0.12003041,  0.1874917 ],\n",
       "       [-0.15806366,  0.        , -0.09459408],\n",
       "       [ 0.51238858, -0.1192162 ,  0.        ]])"
      ]
     },
     "execution_count": 6,
     "metadata": {},
     "output_type": "execute_result"
    }
   ],
   "source": [
    "HD = np.identity(size) - np.matmul(np.linalg.inv(D), A)\n",
    "HD"
   ]
  },
  {
   "cell_type": "code",
   "execution_count": 7,
   "id": "c7aee10d",
   "metadata": {},
   "outputs": [
    {
     "data": {
      "text/plain": [
       "array([[0.13600409],\n",
       "       [0.        ],\n",
       "       [0.        ]])"
      ]
     },
     "execution_count": 7,
     "metadata": {},
     "output_type": "execute_result"
    }
   ],
   "source": [
    "g_D = np.matmul(np.linalg.inv(D), b)\n",
    "g_D"
   ]
  },
  {
   "cell_type": "code",
   "execution_count": 8,
   "id": "9f047efd",
   "metadata": {},
   "outputs": [
    {
     "data": {
      "text/plain": [
       "0.6316047860102488"
      ]
     },
     "execution_count": 8,
     "metadata": {},
     "output_type": "execute_result"
    }
   ],
   "source": [
    "HD_norm = np.linalg.norm(HD, ord=np.inf)\n",
    "HD_norm"
   ]
  },
  {
   "cell_type": "code",
   "execution_count": 9,
   "id": "23686da3",
   "metadata": {},
   "outputs": [],
   "source": [
    "def simple_iteration_method(H, g, k: int):\n",
    "    appr = {}\n",
    "    n = H.shape[0]\n",
    "    x = np.zeros((n, 1))\n",
    "    for i in range(k):\n",
    "        x = np.matmul(H, x) + g\n",
    "        appr[i + 1] = x\n",
    "    return appr\n",
    "\n",
    "def seidel_method(H, g, k) -> list:\n",
    "    n = H.shape[0]\n",
    "    prev_x = np.zeros(n)\n",
    "    x = np.zeros(n)\n",
    "    for it in range(k):\n",
    "        for i in range(n):\n",
    "            x[i] = np.dot(H[i, 0:i], x[0:i]) + np.dot(H[i, i:n], prev_x[i:n]) + g[i]\n",
    "        prev_x = x\n",
    "    return x.reshape((n, 1))"
   ]
  },
  {
   "cell_type": "code",
   "execution_count": 10,
   "id": "9bd852ed",
   "metadata": {},
   "outputs": [],
   "source": [
    "def inf_norm(arr):\n",
    "    return np.linalg.norm(arr, ord=np.inf)\n",
    "\n"
   ]
  },
  {
   "cell_type": "code",
   "execution_count": 11,
   "id": "2933d656",
   "metadata": {},
   "outputs": [
    {
     "data": {
      "text/plain": [
       "(array([[ 0.15546676],\n",
       "        [-0.0323991 ],\n",
       "        [ 0.08336929]]),\n",
       " array([[ 0.15557738],\n",
       "        [-0.03249829],\n",
       "        [ 0.0835904 ]]))"
      ]
     },
     "execution_count": 11,
     "metadata": {},
     "output_type": "execute_result"
    }
   ],
   "source": [
    "k = 7\n",
    "appr1 = simple_iteration_method(HD, g_D, k)\n",
    "x = appr1[k]\n",
    "x, solution"
   ]
  },
  {
   "cell_type": "code",
   "execution_count": 12,
   "id": "6dd01af8",
   "metadata": {},
   "outputs": [
    {
     "data": {
      "text/plain": [
       "array([[ 0.15557696],\n",
       "       [-0.03249808],\n",
       "       [ 0.08359016]])"
      ]
     },
     "execution_count": 12,
     "metadata": {},
     "output_type": "execute_result"
    }
   ],
   "source": [
    "x_seid = seidel_method(HD, g_D, 7)\n",
    "x_seid"
   ]
  }
 ],
 "metadata": {
  "kernelspec": {
   "display_name": "Python 3 (ipykernel)",
   "language": "python",
   "name": "python3"
  },
  "language_info": {
   "codemirror_mode": {
    "name": "ipython",
    "version": 3
   },
   "file_extension": ".py",
   "mimetype": "text/x-python",
   "name": "python",
   "nbconvert_exporter": "python",
   "pygments_lexer": "ipython3",
   "version": "3.8.10"
  }
 },
 "nbformat": 4,
 "nbformat_minor": 5
}
